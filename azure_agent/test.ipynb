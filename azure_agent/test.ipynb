{
 "cells": [
  {
   "cell_type": "code",
   "execution_count": 12,
   "metadata": {},
   "outputs": [],
   "source": [
    "import os\n",
    "import streamlit as st\n",
    "from langchain.text_splitter import RecursiveCharacterTextSplitter\n",
    "from azure.search.documents import SearchClient\n",
    "from azure.search.documents.indexes import SearchIndexClient\n",
    "from azure.search.documents.indexes.models import SearchIndex, SimpleField, SearchableField, SearchField,VectorSearch, VectorSearchProfile, HnswAlgorithmConfiguration\n",
    "from azure.core.credentials import AzureKeyCredential\n",
    "from azure.search.documents.models import VectorizedQuery\n",
    "from azure.identity import DefaultAzureCredential\n",
    "import openai\n",
    "from openai import AzureOpenAI\n",
    "from dotenv import load_dotenv\n",
    "import PyPDF2\n",
    "\n",
    "# Load environment variables\n",
    "load_dotenv()\n",
    "\n",
    "# Azure OpenAI and Azure Search credentials\n",
    "SEARCH_ENDPOINT = os.getenv(\"AZURE_SEARCH_ENDPOINT\")\n",
    "SEARCH_ADMIN_KEY = os.getenv(\"AZURE_SEARCH_ADMIN_KEY\")\n",
    "azure_openai_endpoint = os.getenv(\"AZURE_OPENAI_ENDPOINT\")\n",
    "azure_openai_key = os.getenv(\"AZURE_OPENAI_API_KEY\")\n",
    "azure_openai_version = os.getenv('API_VERSION')\n",
    "azure_openai_embedding_deployment = \"text-embedding-ada-002\"\n",
    "azure_openai_chat_model = \"gpt-35-turbo\"\n",
    "\n",
    "# Constants\n",
    "SEARCH_INDEX_NAME = \"clinical_trial_test\""
   ]
  },
  {
   "cell_type": "code",
   "execution_count": 15,
   "metadata": {},
   "outputs": [],
   "source": [
    "def search_embeddings(user_question):\n",
    "    client_search = SearchClient(endpoint=SEARCH_ENDPOINT, index_name=SEARCH_INDEX_NAME, credential=AzureKeyCredential(SEARCH_ADMIN_KEY))\n",
    "    # Generate embeddings for the user's question using Azure OpenAI\n",
    "    try:\n",
    "        openai_credential = AzureKeyCredential(azure_openai_key)\n",
    "        client = AzureOpenAI(\n",
    "            azure_deployment=azure_openai_embedding_deployment,\n",
    "            azure_endpoint=azure_openai_endpoint,\n",
    "            api_key=azure_openai_key,\n",
    "            api_version=azure_openai_version,\n",
    "        )\n",
    "        response = client.embeddings.create(input=user_question, model=\"text-embedding-ada-002\").data[0].embedding\n",
    "\n",
    "        vector_query = VectorizedQuery(vector=response, k_nearest_neighbors=3, fields=\"contentEmbeddings\", exhaustive=True)\n",
    "        results = client_search.search(\n",
    "            search_text=None,\n",
    "            vector_queries=[vector_query],\n",
    "            select=[\"id\", \"content\"],\n",
    "            top=3\n",
    "        )\n",
    "        return results\n",
    "    except Exception as e:\n",
    "        print(f\"Error generating embeddings or searching: {e}\")\n",
    "        return None"
   ]
  },
  {
   "cell_type": "code",
   "execution_count": 16,
   "metadata": {},
   "outputs": [
    {
     "name": "stdout",
     "output_type": "stream",
     "text": [
      "<iterator object azure.core.paging.ItemPaged at 0x26c85157c10>\n"
     ]
    }
   ],
   "source": [
    "a = search_embeddings(\"Trial design\")\n",
    "print(a)"
   ]
  },
  {
   "cell_type": "code",
   "execution_count": 17,
   "metadata": {},
   "outputs": [
    {
     "name": "stdout",
     "output_type": "stream",
     "text": [
      "Error in search_embeddings: Session.request() got an unexpected keyword argument 'vectors'\n",
      "None\n"
     ]
    }
   ],
   "source": [
    "def search_embeddings(user_question):\n",
    "    client_search = SearchClient(\n",
    "        endpoint=SEARCH_ENDPOINT,\n",
    "        index_name=SEARCH_INDEX_NAME,\n",
    "        credential=AzureKeyCredential(SEARCH_ADMIN_KEY)\n",
    "    )\n",
    "    \n",
    "    try:\n",
    "        # Generate embeddings for the user's question using Azure OpenAI\n",
    "        client = AzureOpenAI(\n",
    "            azure_deployment=azure_openai_embedding_deployment,\n",
    "            azure_endpoint=azure_openai_endpoint,\n",
    "            api_key=azure_openai_key,\n",
    "            api_version=azure_openai_version,\n",
    "        )\n",
    "        \n",
    "        # Get the embeddings for the user question\n",
    "        response = client.embeddings.create(\n",
    "            input=user_question, \n",
    "            model=\"text-embedding-ada-002\"\n",
    "        ).data[0].embedding\n",
    "\n",
    "        # Create a vector search query\n",
    "        search_results = client_search.search(\n",
    "            search_text=\"\",  # Empty string for vector search\n",
    "            vectors=[{\n",
    "                \"value\": response,  # Pass the embedding vector directly\n",
    "                \"fields\": \"contentEmbeddings\",  # Field to search against\n",
    "                \"k\": 3  # Number of nearest neighbors to retrieve\n",
    "            }],\n",
    "            top=3,  # Limit results to top 3\n",
    "            select=[\"id\", \"content\"]\n",
    "        )\n",
    "\n",
    "        # If no results are found, return None\n",
    "        if not search_results:\n",
    "            print(f\"No search results found for the query: {user_question}\")\n",
    "            return None\n",
    "\n",
    "        # Extract and return the search results\n",
    "        results = [\n",
    "            {\n",
    "                \"id\": result[\"id\"],\n",
    "                \"content\": result[\"content\"]\n",
    "            } \n",
    "            for result in search_results\n",
    "        ]\n",
    "        \n",
    "        return results\n",
    "\n",
    "    except Exception as e:\n",
    "        print(f\"Error in search_embeddings: {e}\")\n",
    "        return None\n",
    "\n",
    "# Example usage\n",
    "a = search_embeddings(\"Trial design\")\n",
    "print(a)\n"
   ]
  }
 ],
 "metadata": {
  "kernelspec": {
   "display_name": "poc_azure",
   "language": "python",
   "name": "python3"
  },
  "language_info": {
   "codemirror_mode": {
    "name": "ipython",
    "version": 3
   },
   "file_extension": ".py",
   "mimetype": "text/x-python",
   "name": "python",
   "nbconvert_exporter": "python",
   "pygments_lexer": "ipython3",
   "version": "3.10.0"
  }
 },
 "nbformat": 4,
 "nbformat_minor": 2
}
